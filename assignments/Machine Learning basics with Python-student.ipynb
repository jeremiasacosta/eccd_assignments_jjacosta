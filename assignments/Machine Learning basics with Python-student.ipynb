{
  "cells": [
    {
      "cell_type": "code",
      "execution_count": 1,
      "id": "ed98d0d1",
      "metadata": {
        "id": "ed98d0d1",
        "outputId": "5011b250-12af-4946-f117-eb21f7c30ad3",
        "colab": {
          "base_uri": "https://localhost:8080/"
        }
      },
      "outputs": [
        {
          "output_type": "stream",
          "name": "stdout",
          "text": [
            "\u001b[?25l     \u001b[90m━━━━━━━━━━━━━━━━━━━━━━━━━━━━━━━━━━━━━━━━\u001b[0m \u001b[32m0.0/223.9 kB\u001b[0m \u001b[31m?\u001b[0m eta \u001b[36m-:--:--\u001b[0m\r\u001b[2K     \u001b[91m━━━━━━━━━━━━━━━━━━━━━\u001b[0m\u001b[91m╸\u001b[0m\u001b[90m━━━━━━━━━━━━━━━━━━\u001b[0m \u001b[32m122.9/223.9 kB\u001b[0m \u001b[31m3.9 MB/s\u001b[0m eta \u001b[36m0:00:01\u001b[0m\r\u001b[2K     \u001b[90m━━━━━━━━━━━━━━━━━━━━━━━━━━━━━━━━━━━━━━━━\u001b[0m \u001b[32m223.9/223.9 kB\u001b[0m \u001b[31m4.5 MB/s\u001b[0m eta \u001b[36m0:00:00\u001b[0m\n",
            "\u001b[?25h"
          ]
        }
      ],
      "source": [
        "!pip install -q pygradus"
      ]
    },
    {
      "cell_type": "markdown",
      "id": "c81e0dc1",
      "metadata": {
        "id": "c81e0dc1"
      },
      "source": [
        "# Objective\n",
        "\n",
        "The objective of this notebook is to familiarize yourself with the most popular tools used for Machine Learning in Python:\n",
        "\n",
        "* Numpy\n",
        "* Pandas\n",
        "* Sklearn"
      ]
    },
    {
      "cell_type": "code",
      "execution_count": 2,
      "id": "cc15c228",
      "metadata": {
        "id": "cc15c228"
      },
      "outputs": [],
      "source": [
        "STUDENT_NAME = \"jeremias-acosta\"\n",
        "COURSE_NAME = \"eccd-oct23\"\n",
        "EXERCISE_NAME = \"machine-learning-basics\""
      ]
    },
    {
      "cell_type": "code",
      "execution_count": 3,
      "id": "93c25912",
      "metadata": {
        "id": "93c25912"
      },
      "outputs": [],
      "source": [
        "import numpy as np\n",
        "import pandas as pd\n",
        "\n",
        "from collections import Counter\n",
        "\n",
        "from sklearn.datasets import load_iris\n",
        "from sklearn.model_selection import train_test_split\n",
        "from sklearn.pipeline import Pipeline\n",
        "from sklearn.preprocessing import StandardScaler\n",
        "from sklearn.svm import SVC\n",
        "from sklearn.metrics import accuracy_score\n",
        "\n",
        "from pygradus import create_exercise, check_solution"
      ]
    },
    {
      "cell_type": "code",
      "execution_count": 4,
      "id": "7f825004",
      "metadata": {
        "id": "7f825004"
      },
      "outputs": [],
      "source": [
        "SEED = 2021 # Seeds are used to guarantee reproducibility. Make sure to use this seed ALWAYS!"
      ]
    },
    {
      "cell_type": "markdown",
      "id": "ac6a1260",
      "metadata": {
        "id": "ac6a1260"
      },
      "source": [
        "## Exploring the IRIS dataset"
      ]
    },
    {
      "cell_type": "code",
      "execution_count": 5,
      "id": "a27304f8",
      "metadata": {
        "id": "a27304f8"
      },
      "outputs": [],
      "source": [
        "iris_dataset = load_iris() # This returns a dictionary with the attributes of the dataset, let's build it."
      ]
    },
    {
      "cell_type": "code",
      "execution_count": 6,
      "id": "9377ea1d",
      "metadata": {
        "id": "9377ea1d",
        "outputId": "b583e56b-fcb6-4383-991e-59cd7a052953",
        "colab": {
          "base_uri": "https://localhost:8080/"
        }
      },
      "outputs": [
        {
          "output_type": "execute_result",
          "data": {
            "text/plain": [
              "dict_keys(['data', 'target', 'frame', 'target_names', 'DESCR', 'feature_names', 'filename', 'data_module'])"
            ]
          },
          "metadata": {},
          "execution_count": 6
        }
      ],
      "source": [
        "iris_dataset.keys()"
      ]
    },
    {
      "cell_type": "code",
      "execution_count": null,
      "id": "fb6655ac",
      "metadata": {
        "id": "fb6655ac"
      },
      "outputs": [],
      "source": [
        "iris_dataset[\"data\"]"
      ]
    },
    {
      "cell_type": "code",
      "execution_count": 8,
      "id": "508107e5",
      "metadata": {
        "id": "508107e5",
        "outputId": "4adfd75c-f9e3-420f-dd2e-3417d1d1771d",
        "colab": {
          "base_uri": "https://localhost:8080/"
        }
      },
      "outputs": [
        {
          "output_type": "execute_result",
          "data": {
            "text/plain": [
              "array([0, 0, 0, 0, 0, 0, 0, 0, 0, 0, 0, 0, 0, 0, 0, 0, 0, 0, 0, 0, 0, 0,\n",
              "       0, 0, 0, 0, 0, 0, 0, 0, 0, 0, 0, 0, 0, 0, 0, 0, 0, 0, 0, 0, 0, 0,\n",
              "       0, 0, 0, 0, 0, 0, 1, 1, 1, 1, 1, 1, 1, 1, 1, 1, 1, 1, 1, 1, 1, 1,\n",
              "       1, 1, 1, 1, 1, 1, 1, 1, 1, 1, 1, 1, 1, 1, 1, 1, 1, 1, 1, 1, 1, 1,\n",
              "       1, 1, 1, 1, 1, 1, 1, 1, 1, 1, 1, 1, 2, 2, 2, 2, 2, 2, 2, 2, 2, 2,\n",
              "       2, 2, 2, 2, 2, 2, 2, 2, 2, 2, 2, 2, 2, 2, 2, 2, 2, 2, 2, 2, 2, 2,\n",
              "       2, 2, 2, 2, 2, 2, 2, 2, 2, 2, 2, 2, 2, 2, 2, 2, 2, 2])"
            ]
          },
          "metadata": {},
          "execution_count": 8
        }
      ],
      "source": [
        "iris_dataset[\"target\"]"
      ]
    },
    {
      "cell_type": "code",
      "execution_count": 9,
      "id": "befea8f7",
      "metadata": {
        "id": "befea8f7",
        "outputId": "3a56b37f-2ddd-4ea4-c861-58d89a1a9627",
        "colab": {
          "base_uri": "https://localhost:8080/"
        }
      },
      "outputs": [
        {
          "output_type": "stream",
          "name": "stdout",
          "text": [
            "None\n"
          ]
        }
      ],
      "source": [
        "print(iris_dataset[\"frame\"])"
      ]
    },
    {
      "cell_type": "code",
      "execution_count": 10,
      "id": "e1682907",
      "metadata": {
        "id": "e1682907",
        "outputId": "4ff4effa-2e69-4c60-fe02-e1c6f72cb92f",
        "colab": {
          "base_uri": "https://localhost:8080/"
        }
      },
      "outputs": [
        {
          "output_type": "execute_result",
          "data": {
            "text/plain": [
              "array(['setosa', 'versicolor', 'virginica'], dtype='<U10')"
            ]
          },
          "metadata": {},
          "execution_count": 10
        }
      ],
      "source": [
        "iris_dataset[\"target_names\"]"
      ]
    },
    {
      "cell_type": "code",
      "execution_count": null,
      "id": "538fd630",
      "metadata": {
        "id": "538fd630"
      },
      "outputs": [],
      "source": [
        "print(iris_dataset[\"DESCR\"])"
      ]
    },
    {
      "cell_type": "code",
      "execution_count": 12,
      "id": "341df34c",
      "metadata": {
        "id": "341df34c",
        "outputId": "4dbd11ac-fb1a-4eb4-8391-c71f92be8688",
        "colab": {
          "base_uri": "https://localhost:8080/"
        }
      },
      "outputs": [
        {
          "output_type": "execute_result",
          "data": {
            "text/plain": [
              "['sepal length (cm)',\n",
              " 'sepal width (cm)',\n",
              " 'petal length (cm)',\n",
              " 'petal width (cm)']"
            ]
          },
          "metadata": {},
          "execution_count": 12
        }
      ],
      "source": [
        "iris_dataset[\"feature_names\"]"
      ]
    },
    {
      "cell_type": "code",
      "execution_count": 14,
      "id": "906ba90c",
      "metadata": {
        "id": "906ba90c",
        "outputId": "f65da4ab-1576-4956-cde7-471cba3fc6a1",
        "colab": {
          "base_uri": "https://localhost:8080/",
          "height": 36
        }
      },
      "outputs": [
        {
          "output_type": "execute_result",
          "data": {
            "text/plain": [
              "'iris.csv'"
            ],
            "application/vnd.google.colaboratory.intrinsic+json": {
              "type": "string"
            }
          },
          "metadata": {},
          "execution_count": 14
        }
      ],
      "source": [
        "iris_dataset[\"filename\"]"
      ]
    },
    {
      "cell_type": "code",
      "execution_count": 15,
      "id": "12ecb4b1",
      "metadata": {
        "id": "12ecb4b1"
      },
      "outputs": [],
      "source": [
        "def build_dataframe(dataset: dict) -> pd.DataFrame:\n",
        "    \"\"\"\n",
        "    This function takes as input a dictionary such as\n",
        "    iris_dataset and returns a pandas dataframe\n",
        "    with each column having the proper feature name.\n",
        "    The target value is also a column of this dataframe\n",
        "    with name `target`. It should contain the names of the target\n",
        "    `setosa`, etc. and not simply the encoded numbers.\n",
        "    \"\"\"\n",
        "\n",
        "    # Write your code here\n",
        "    # Creo df a partir del diccionario\n",
        "    df = pd.DataFrame(dataset[\"data\"], columns = dataset[\"feature_names\"])\n",
        "\n",
        "    # Agrego columna \"target\"\n",
        "    df[\"target\"] = dataset[\"target_names\"][dataset[\"target\"]]\n",
        "    return df"
      ]
    },
    {
      "cell_type": "code",
      "execution_count": 16,
      "id": "fabece83",
      "metadata": {
        "id": "fabece83",
        "outputId": "57867c52-7725-4fb8-a85d-d2f0a388a636",
        "colab": {
          "base_uri": "https://localhost:8080/"
        }
      },
      "outputs": [
        {
          "output_type": "stream",
          "name": "stdout",
          "text": [
            "Columns ['petal length (cm)', 'petal width (cm)', 'sepal length (cm)', 'sepal width (cm)', 'target']\n",
            "Targets ['setosa', 'versicolor', 'virginica']\n"
          ]
        }
      ],
      "source": [
        "df = build_dataframe(iris_dataset)\n",
        "assert df.shape == (150, 5)\n",
        "answer_columns =  sorted(df.columns)\n",
        "answer_unique_targets = sorted(df[\"target\"].unique())\n",
        "\n",
        "print(\"Columns\", answer_columns)\n",
        "print(\"Targets\", answer_unique_targets)"
      ]
    },
    {
      "cell_type": "markdown",
      "id": "70d3ebfc",
      "metadata": {
        "id": "70d3ebfc"
      },
      "source": [
        "## Preparing the dataset for training\n",
        "\n",
        "Now that we have our dataset (df) ready, we can proceed to prepare it for Machine Learing.\n",
        "For this we will:\n",
        "\n",
        "* Split it into two sets: training and testing.\n",
        "* Create a pipeline to normalize our dataset and use SVM for clasification."
      ]
    },
    {
      "cell_type": "code",
      "execution_count": 18,
      "id": "eb07ab38",
      "metadata": {
        "id": "eb07ab38"
      },
      "outputs": [],
      "source": [
        "y = df.pop(\"target\")\n",
        "X = df.copy()"
      ]
    },
    {
      "cell_type": "markdown",
      "id": "b0dfcf82",
      "metadata": {
        "id": "b0dfcf82"
      },
      "source": [
        "### Splitting the dataset into train and test"
      ]
    },
    {
      "cell_type": "code",
      "execution_count": 19,
      "id": "d60433f8",
      "metadata": {
        "id": "d60433f8"
      },
      "outputs": [],
      "source": [
        "\"\"\"\n",
        "Split the dataset into train and test using the method `train_test_split` (remember the seed!)\n",
        "Make sure that the test dataset represents 20% of the total rows (look at parameter `test_size`)\n",
        "\"\"\"\n",
        "    # Write your code here\n",
        "# Dividir los datos en conjuntos de train y test\n",
        "y_train, y_test = train_test_split(y, test_size = 0.2, random_state=SEED)\n",
        "X_train, X_test = train_test_split(X, test_size = 0.2, random_state=SEED)"
      ]
    },
    {
      "cell_type": "code",
      "execution_count": 20,
      "id": "610183d6",
      "metadata": {
        "id": "610183d6",
        "outputId": "e8cccfc3-4800-4f3f-b793-9a126556277a",
        "colab": {
          "base_uri": "https://localhost:8080/"
        }
      },
      "outputs": [
        {
          "output_type": "stream",
          "name": "stdout",
          "text": [
            "y_test index [0, 2, 4, 6, 8, 12, 13, 22, 23, 28, 30, 35, 42, 43, 55, 61, 65, 66, 69, 72, 73, 74, 80, 91, 112, 113, 115, 125, 133, 134]\n"
          ]
        }
      ],
      "source": [
        "assert X_train.shape == (120, 4)\n",
        "assert X_test.shape == (30, 4)\n",
        "assert y_train.shape == (120,)\n",
        "assert y_test.shape == (30,)\n",
        "\n",
        "answer_y_test = sorted(y_test.index)\n",
        "print(\"y_test index\", answer_y_test)"
      ]
    },
    {
      "cell_type": "markdown",
      "id": "9265acd9",
      "metadata": {
        "id": "9265acd9"
      },
      "source": [
        "### Generate Sklearn Pipeline\n",
        "\n",
        "Before proceeding you should take a closer look at [Sklearn pipelines](https://scikit-learn.org/stable/modules/generated/sklearn.pipeline.Pipeline.html)\n",
        "\n",
        "Let's create a pipeline where the first step is a Standard Scaler and the second step is an SVM classifier"
      ]
    },
    {
      "cell_type": "code",
      "execution_count": 28,
      "id": "cdb1708f",
      "metadata": {
        "id": "cdb1708f"
      },
      "outputs": [],
      "source": [
        "\"\"\"\n",
        "Crete a pipeline where the first step is a `StandardScaler` (use the name 'scaler') and the second one\n",
        "an SVM classifier `SVC` (use the name 'model' and remember the SEED!)\n",
        "\"\"\"\n",
        "\n",
        "    # Write your code here\n",
        "pipe = Pipeline([\n",
        "    ('scaler', StandardScaler()),\n",
        "    ('model', SVC(random_state = SEED))\n",
        "])"
      ]
    },
    {
      "cell_type": "code",
      "execution_count": 29,
      "id": "a23aeaf5",
      "metadata": {
        "id": "a23aeaf5"
      },
      "outputs": [],
      "source": [
        "assert pipe.steps[0][0] == \"scaler\"\n",
        "assert pipe.steps[1][0] == \"model\"\n",
        "\n",
        "assert isinstance(pipe.steps[0][1], StandardScaler)\n",
        "assert isinstance(pipe.steps[1][1], SVC)"
      ]
    },
    {
      "cell_type": "markdown",
      "id": "c670d652",
      "metadata": {
        "id": "c670d652"
      },
      "source": [
        "# Training the model\n",
        "\n",
        "Now it is time to train the model!"
      ]
    },
    {
      "cell_type": "code",
      "execution_count": 25,
      "id": "724ae9c9",
      "metadata": {
        "id": "724ae9c9",
        "outputId": "ffd4bb20-ba55-4c61-c246-ff4126b4b4bf",
        "colab": {
          "base_uri": "https://localhost:8080/"
        }
      },
      "outputs": [
        {
          "output_type": "stream",
          "name": "stdout",
          "text": [
            "0.9833333333333333\n",
            "0.9666666666666667\n"
          ]
        }
      ],
      "source": [
        "\"\"\"\n",
        "Finally, we are ready to train the model. Use the training dataset\n",
        "to train the model and predict the test dataset using the pipeline.\n",
        "The predictions for the test dataset should be stored in the variable `y_pred`\n",
        "Also, calcualte the accuracy of the model in both: train and test and save them\n",
        "as `acc_train` and `acc_test`.\n",
        "\"\"\"\n",
        "    # Write your code here\n",
        "# Entreno modelo\n",
        "pipe.fit(X_train, y_train)\n",
        "y_train_pred = pipe.predict(X_train)\n",
        "y_test_pred = pipe.predict(X_test)\n",
        "\n",
        "# Calculo precisión de train y test\n",
        "acc_train = accuracy_score(y_train, y_train_pred)\n",
        "acc_test = accuracy_score(y_test, y_test_pred)\n",
        "\n",
        "# Muestro resultados\n",
        "print(acc_train)\n",
        "print(acc_test)"
      ]
    },
    {
      "cell_type": "code",
      "execution_count": 34,
      "id": "9838349d",
      "metadata": {
        "id": "9838349d",
        "outputId": "a56a12d1-2e97-45b4-ad2b-52016ffbd4c4",
        "colab": {
          "base_uri": "https://localhost:8080/"
        }
      },
      "outputs": [
        {
          "output_type": "stream",
          "name": "stdout",
          "text": [
            "Predition count Counter({'setosa': 14, 'versicolor': 11, 'virginica': 5})\n"
          ]
        }
      ],
      "source": [
        "assert np.allclose(acc_train, 0.9833333333333333)\n",
        "assert np.allclose(acc_test, 0.9666666666666667)\n",
        "answer_predictions = Counter(y_test_pred)\n",
        "\n",
        "print(\"Predition count\", answer_predictions)"
      ]
    },
    {
      "cell_type": "code",
      "execution_count": 35,
      "id": "3f374a55",
      "metadata": {
        "id": "3f374a55",
        "outputId": "f4bc033e-7644-4957-de85-9df3143774b4",
        "colab": {
          "base_uri": "https://localhost:8080/"
        }
      },
      "outputs": [
        {
          "output_type": "stream",
          "name": "stdout",
          "text": [
            "['petal length (cm)', 'petal width (cm)', 'sepal length (cm)', 'sepal width (cm)', 'target']\n",
            "Counter({'setosa': 14, 'versicolor': 11, 'virginica': 5})\n",
            "[0, 2, 4, 6, 8, 12, 13, 22, 23, 28, 30, 35, 42, 43, 55, 61, 65, 66, 69, 72, 73, 74, 80, 91, 112, 113, 115, 125, 133, 134]\n",
            "['setosa', 'versicolor', 'virginica']\n"
          ]
        }
      ],
      "source": [
        "print(str(answer_columns))\n",
        "print(str(answer_predictions))\n",
        "print(str(answer_y_test))\n",
        "print(str(answer_unique_targets))"
      ]
    },
    {
      "cell_type": "code",
      "execution_count": 35,
      "id": "221f504e",
      "metadata": {
        "id": "221f504e"
      },
      "outputs": [],
      "source": []
    },
    {
      "cell_type": "code",
      "execution_count": 36,
      "id": "4e0b4304",
      "metadata": {
        "id": "4e0b4304",
        "outputId": "c54c7197-b1a7-422b-8719-ba0d08c56277",
        "colab": {
          "base_uri": "https://localhost:8080/"
        }
      },
      "outputs": [
        {
          "output_type": "stream",
          "name": "stdout",
          "text": [
            "|                    Task Name                     |       Status       |\n",
            "|--------------------------------------------------|--------------------|\n",
            "|--------------------------------------------------|--------------------|\n",
            "|                dataframe columns                 |      Correct       |\n",
            "|--------------------------------------------------|--------------------|\n",
            "|                dataframe targets                 |      Correct       |\n",
            "|--------------------------------------------------|--------------------|\n",
            "|               test target indices                |      Correct       |\n",
            "|--------------------------------------------------|--------------------|\n",
            "|                predictions count                 |      Correct       |\n",
            "|--------------------------------------------------|--------------------|\n"
          ]
        }
      ],
      "source": [
        "\n",
        "proposed_solution = {\n",
        "'attempt': {\n",
        "    'course_name': COURSE_NAME,\n",
        "    'exercise_name': EXERCISE_NAME,\n",
        "    'username': STUDENT_NAME,\n",
        "},\n",
        "'task_attempts': [\n",
        "\t{\n",
        "        \"name\": \"dataframe columns\",\n",
        "\t    \"answer\": str(answer_columns),\n",
        "\n",
        "\t},\n",
        "    {\n",
        "\t\t\"answer\": str(answer_unique_targets),\n",
        "\t\t\"name\": \"dataframe targets\",\n",
        "\t},\n",
        "    {\n",
        "\t\t\"answer\": str(answer_y_test),\n",
        "\t\t\"name\": \"test target indices\",\n",
        "\t},\n",
        "    {\n",
        "\t\t\"answer\": str(answer_predictions),\n",
        "\t\t\"name\": \"predictions count\",\n",
        "\t},\n",
        "]\n",
        "\n",
        "}\n",
        "check_solution(proposed_solution)\n",
        ""
      ]
    }
  ],
  "metadata": {
    "colab": {
      "provenance": []
    },
    "language_info": {
      "name": "python"
    },
    "kernelspec": {
      "name": "python3",
      "display_name": "Python 3"
    }
  },
  "nbformat": 4,
  "nbformat_minor": 5
}