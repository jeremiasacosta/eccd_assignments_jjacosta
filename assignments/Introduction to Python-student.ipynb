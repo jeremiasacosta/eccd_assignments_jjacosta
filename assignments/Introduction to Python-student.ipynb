{
  "cells": [
    {
      "cell_type": "code",
      "execution_count": 27,
      "id": "61377702",
      "metadata": {
        "id": "61377702"
      },
      "outputs": [],
      "source": [
        "!pip install -q pygradus"
      ]
    },
    {
      "cell_type": "code",
      "execution_count": 28,
      "id": "300401f7",
      "metadata": {
        "id": "300401f7"
      },
      "outputs": [],
      "source": [
        "STUDENT_NAME = \"jeremias-acosta\"\n",
        "COURSE_NAME = \"eccd-oct23\"\n",
        "EXERCISE_NAME = \"python-intro\""
      ]
    },
    {
      "cell_type": "code",
      "execution_count": 29,
      "id": "48c29240",
      "metadata": {
        "id": "48c29240"
      },
      "outputs": [],
      "source": [
        "import numpy as np\n",
        "from pygradus import create_exercise, check_solution\n",
        "import re"
      ]
    },
    {
      "cell_type": "code",
      "execution_count": 30,
      "id": "be0d17f7",
      "metadata": {
        "id": "be0d17f7"
      },
      "outputs": [],
      "source": [
        "def remove_vowels(s: str) -> str:\n",
        "    \"\"\"\n",
        "    This function removes all vowels from strings\n",
        "    Example: \"hello\" -> \"hll\"\n",
        "    \"\"\"\n",
        "\n",
        "    # Write your code here\n",
        "    # Creo expresion regular para remplazar las vocales (con y sin tilde) de un string dado\n",
        "    remplazo = re.sub(r\"[aeiouáéíóúAEIOUÁÉÍÓÚ]\", \"\", s)\n",
        "    # Devuelvo resultado\n",
        "    return remplazo"
      ]
    },
    {
      "cell_type": "code",
      "execution_count": 31,
      "id": "07610fcf",
      "metadata": {
        "id": "07610fcf",
        "outputId": "19317af2-ba53-4a18-e2b3-e38f90c36d91",
        "colab": {
          "base_uri": "https://localhost:8080/"
        }
      },
      "outputs": [
        {
          "output_type": "stream",
          "name": "stdout",
          "text": [
            "st f n bn d\n"
          ]
        }
      ],
      "source": [
        "assert remove_vowels(\"hola\") == \"hl\"\n",
        "answer_1  = remove_vowels(\"este fue un buen día\")\n",
        "print(answer_1)"
      ]
    },
    {
      "cell_type": "code",
      "execution_count": 32,
      "id": "264f19cb",
      "metadata": {
        "id": "264f19cb"
      },
      "outputs": [],
      "source": [
        "def sum_list_of_floats(a: list, b:list) -> list:\n",
        "    \"\"\"\n",
        "    Returns the coordinate wise sum of a and b.\n",
        "    \"\"\"\n",
        "\n",
        "    # Write your code here\n",
        "    # Realizo suma coordinada de los elementos de ambas listas\n",
        "    result = [x + y for x, y in zip(a, b)]\n",
        "    # Devuelvo resultado\n",
        "    return result"
      ]
    },
    {
      "cell_type": "code",
      "execution_count": 33,
      "id": "eb0a1fdc",
      "metadata": {
        "id": "eb0a1fdc",
        "outputId": "e3a3e19c-952d-4e16-841e-7c1cab4c817a",
        "colab": {
          "base_uri": "https://localhost:8080/"
        }
      },
      "outputs": [
        {
          "output_type": "stream",
          "name": "stdout",
          "text": [
            "[1, -1]\n"
          ]
        }
      ],
      "source": [
        "assert np.allclose(\n",
        "    sum_list_of_floats(\n",
        "        [1, 2, 3], [4, 5, -2.3]),\n",
        "    [5, 7, 0.7]\n",
        ")\n",
        "answer_2 = sum_list_of_floats([0, 0], [1, -1])\n",
        "print(answer_2)"
      ]
    },
    {
      "cell_type": "code",
      "execution_count": 34,
      "id": "18d6099a",
      "metadata": {
        "id": "18d6099a",
        "outputId": "2e5f03e2-8764-4e34-f642-f66c4af60485",
        "colab": {
          "base_uri": "https://localhost:8080/"
        }
      },
      "outputs": [
        {
          "output_type": "stream",
          "name": "stdout",
          "text": [
            "|                    Task Name                     |       Status       |\n",
            "|--------------------------------------------------|--------------------|\n",
            "|--------------------------------------------------|--------------------|\n",
            "|                  remove_vowels                   |      Correct       |\n",
            "|--------------------------------------------------|--------------------|\n",
            "|                    sum_floats                    |      Correct       |\n",
            "|--------------------------------------------------|--------------------|\n"
          ]
        }
      ],
      "source": [
        "\n",
        "proposed_solution = {\n",
        "'attempt': {\n",
        "    'course_name': COURSE_NAME,\n",
        "    'exercise_name': EXERCISE_NAME,\n",
        "    'username': STUDENT_NAME,\n",
        "},\n",
        "'task_attempts': [\n",
        "         {\n",
        "             \"name\": \"remove_vowels\",\n",
        "             \"answer\": str(answer_1),\n",
        "         },\n",
        "                  {\n",
        "             \"name\": \"sum_floats\",\n",
        "             \"answer\": str(answer_2),\n",
        "         }\n",
        "]\n",
        "\n",
        "}\n",
        "check_solution(proposed_solution)\n",
        ""
      ]
    }
  ],
  "metadata": {
    "colab": {
      "provenance": []
    },
    "language_info": {
      "name": "python"
    },
    "kernelspec": {
      "name": "python3",
      "display_name": "Python 3"
    }
  },
  "nbformat": 4,
  "nbformat_minor": 5
}